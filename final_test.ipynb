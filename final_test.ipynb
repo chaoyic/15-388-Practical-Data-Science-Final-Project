{
 "cells": [
  {
   "cell_type": "code",
   "execution_count": 1,
   "metadata": {
    "collapsed": true
   },
   "outputs": [],
   "source": [
    "import pandas as pd\n",
    "import numpy as np\n",
    "from sklearn.feature_selection import SelectKBest, f_regression\n",
    "from sklearn.preprocessing import Imputer\n",
    "import matplotlib.mlab as mlab\n",
    "import matplotlib.pyplot as plt"
   ]
  },
  {
   "cell_type": "markdown",
   "metadata": {},
   "source": [
    "# Predicting Building Electric Energy Consumption Based on Building Characteristics:  CBECS Dataset\n",
    "#### By Noreen Saeed & Chaoyi Chen"
   ]
  },
  {
   "cell_type": "markdown",
   "metadata": {},
   "source": [
    "For our project we want to analyze energy consumption in commercial buildings.  The problem is an important one because energy prediction helps utility companies in their decision making process to control demand and supply of electricity in the grid.  It also helps in planning for future expansion, and extending the capacity of the electric supply.  Another important aspect of energy analysis is that some building features which lead to increased energy consumption can be identified. Then utility companies can target those buildings by offering incentives to owners for taking steps towards energy efficiency.  For example discounts for adding more insulation to building envelope, or upgraded energy efficient heating equipment etc.\n",
    "\n",
    "We identified a dataset on the US Energy Information and Administration website called the CBECS Survey Data.  CBECS stands for \"Commercial Buildings Energy Consumption Survey\".  We are using the survey for data related to the year 2012.  It is a huge data set with 1121 features and 6721 building examples.  For each building example, statistics about the building characteristics like size of building in square feet, shape of building, year of construction etc. are given.  Also given are statsitics about its energy consumption, the type of fuel the building might be using, and associated mechanical equipment for the heating and cooling of the building.  The dataset does not contain information of the city the building is located in because of data privacy concerns of the users.  A broad category of regions is given which identifies a general climatic zone.  This is what the raw CSV file looks like:  <img src=\"https://i.imgur.com/ZGg7MF9.gif\" width=50%>"
   ]
  },
  {
   "cell_type": "markdown",
   "metadata": {},
   "source": [
    "# PART I:  IMPORTING, CLEANING AND ADDING MISSING VALUES"
   ]
  },
  {
   "cell_type": "markdown",
   "metadata": {
    "collapsed": true
   },
   "source": [
    "##  Loading and Cleaning the Data.  \n",
    "To begin our data analysis, we are loading two data files.  The first file contains data of each building's energy use and characteristics.  The list of features given in the data set is so extensive, that there is a second file, which gives an explanation of each characteristic.  So this second file provides the order in which each buildng feature occurs in the data set, the abbreviation used, whether the feature is quantitative, or categorical and the unit of measurement.\n",
    "\n",
    "The data also has to be cleaned before it can be used.  First we removed columns which deal with all sorts of energy consumption, and added them to a new data frame for use as our labels.  We removed any rows for which the label was missing.  We then dropped columns for which there was too much missing data.  Any column with more than 5% missing values was removed.  We also manually selected some columns to be dropped, which deal with data like building weights, or information as to whether the given values were imputed or reported.  We also dropped all columns which gave any hints about energy consumption, using different fuels etc.\n",
    "\n",
    "The following two functions load and clean the data.  The first function returns the building features along with labels containing energy consumption info.  The second function returns the codebook which can be used to interpret what each feature represents."
   ]
  },
  {
   "cell_type": "code",
   "execution_count": 2,
   "metadata": {
    "collapsed": true,
    "scrolled": false
   },
   "outputs": [],
   "source": [
    "#function adapted to load data from the cbecs 2012 survey data file \n",
    "\n",
    "def loadCleanData(filename, ratio, cat, verbose = True):\n",
    "    \"\"\"args:  filename:  CBECS data file name, codeBk: filename of codebook with explanation of features\n",
    "            ratio: columns to discard whose number of missing values is equal to or exceeds (1-ratio)\n",
    "            cat: additional column indices which may have been  manually selected to be removed.\n",
    "            bucket:  any additional parameters to use while cleaning data.  False implies none are passed in.\n",
    "    returns:  dataframe of cleaned data, dataframe of cleaned labels, codebook containing explanation of features\"\"\"\n",
    "    #load the data with features\n",
    "    df = pd.read_csv(filename)\n",
    "    if verbose: print('Size of data before cleaing:' , df.shape)\n",
    "    s = [a for a in df.dtypes if a.name !='int64' and a.name != 'float64'] #Check that all columns are of type ints or floats\n",
    "    assert s == []\n",
    "    #drop all rows for which predicted energy consumption is not available\n",
    "    df.dropna(subset=['ELCNS','ELHTBTU','ELCLBTU','ELVNBTU'], axis=0, inplace=True) #remove all rows where predicted values are NAN\n",
    "    #Remove outliers where total energy consumption is too much or too less\n",
    "    df = df[df['ELCNS'] > 1200] \n",
    "    df = df[df['ELCNS'] < 4.23e7]\n",
    "    df = df[df['ELVNBTU'] < .4e8]\n",
    "    df = df[df['ELCLBTU'] < .6e8]\n",
    "    df = df[df['ELHTBTU'] < .6e8]\n",
    "    df.index =  pd.RangeIndex(len(df))  #reindex the dataframe.\n",
    "    # create df with the labels.  ytotal is Annual electricity consumption (kWh)\n",
    "    d = {'ytotal' : df['ELCNS'], 'yheat' : df['ELHTBTU'], 'ycool' : df['ELCLBTU'], 'yvent' : df['ELVNBTU']   }\n",
    "    labels = pd.DataFrame(data=d)\n",
    "    labels = labels[['ytotal', 'yheat', 'ycool', 'yvent']]\n",
    "    #remove all useless columns, or ones with target values\n",
    "    colsToDrop = list(range(445,1118))   #Columns that contain weights or describe whether data was imputed or reported\n",
    "    colsToDrop.remove(1048)\n",
    "    colsToDrop.remove(1049)\n",
    "    #remove addition columns related to categorical data\n",
    "    colsToDrop.extend(cat)\n",
    "    colsToDrop = list(set(colsToDrop))\n",
    "    df = df.drop(df.columns[colsToDrop],axis = 1) \n",
    "    #remove columns where 5% (ratio) or more of the data is missing\n",
    "    df = df.dropna(thresh = np.int(len(df)*ratio) , axis=1)    \n",
    "    if verbose: print('Size of data after cleaing:' , df.shape)\n",
    "    return df , labels\n",
    "    "
   ]
  },
  {
   "cell_type": "markdown",
   "metadata": {},
   "source": [
    "The following function loads the list of column names, along with explanations of what the columns mean.  For going through the dictionary would reveal that 'OCCUPYP' means percent occupancy, and the data ranges from 0-100."
   ]
  },
  {
   "cell_type": "code",
   "execution_count": 3,
   "metadata": {
    "collapsed": true
   },
   "outputs": [],
   "source": [
    "#creates a dictionary of column name and description\n",
    "def getCodeBook(codeBk):\n",
    "    \"\"\"args:  path +filename of file containing feature names and explanation\n",
    "    returns:  codeBook: dataframe of column names of features and explanation of what each represents\n",
    "              codeDict:  dictionay of column names and explanations\"\"\"\n",
    "    codeBook = pd.read_csv(codeBk, usecols=[0,1,5,6], index_col='Variable\\nname')\n",
    "    codeDict = zip(codeBook.index, codeBook['Label'])\n",
    "    codeDict = {key:value for key,value in codeDict }  \n",
    "    return codeBook, codeDict"
   ]
  },
  {
   "cell_type": "markdown",
   "metadata": {},
   "source": [
    "Some columns contain duplicate information, and the following function identifies some of them.  For example, a column containing square foot area of building would be followed by square foot category, which just transforms the area of building into categorical output.  Indices of these columns are collected so that they can be removed from the training and test data."
   ]
  },
  {
   "cell_type": "code",
   "execution_count": 4,
   "metadata": {
    "collapsed": true
   },
   "outputs": [],
   "source": [
    "def getCategory(codeBk):\n",
    "    \"\"\"args:  path +filename of file containing feature names and explanation\n",
    "    returns:  indicies of columns which contain data with divided into categories  \"\"\"\n",
    "    df = pd.read_csv(filePath+codeFile, index_col='File order')\n",
    "    a = df.loc[df['Label'].str.contains('category')].index\n",
    "    a = a.astype(np.int)\n",
    "    return a - 1  #subtract 1 because the csv file's index begins at 1 instead of zero"
   ]
  },
  {
   "cell_type": "markdown",
   "metadata": {},
   "source": [
    "##  Impute missing values\n",
    "Since removing all rows with missing values will result in an empty data set, we decided to impute values for the columns where less than 5% of the values were missing.  For this we are using the Imputer function provided by the sklearn library, and substituting the most frequently occuring value for the missing values."
   ]
  },
  {
   "cell_type": "code",
   "execution_count": 5,
   "metadata": {
    "collapsed": true,
    "scrolled": true
   },
   "outputs": [],
   "source": [
    "#related library:  from sklearn.preprocessing import Imputer\n",
    "def imputeMissing(df):\n",
    "    \"\"\"args:  df:  dataframe with missing values. returns:  dataframe with imputed values\"\"\"\n",
    "    imp = Imputer(missing_values='NaN', strategy='most_frequent', axis=1)\n",
    "    imp.fit(df)\n",
    "    df = pd.DataFrame(data=imp.transform(df) , columns=df.columns)\n",
    "    return df"
   ]
  },
  {
   "cell_type": "markdown",
   "metadata": {},
   "source": [
    "## Master Function to Load and Clean the Data\n",
    "So after fully cleaning the data, and imputing missing values, we ended up having a dataset of 6,454 building samples, with 97 features.  Here's how we are loading the data."
   ]
  },
  {
   "cell_type": "code",
   "execution_count": 6,
   "metadata": {
    "collapsed": true
   },
   "outputs": [],
   "source": [
    "def getCleanDataFeatures(filename, codeBk, ratio=.95,divide=.5, verbose=True):\n",
    "    \"\"\"args:  filename: path and file of survey file, \n",
    "            codeBook: file with codes related to the survey\n",
    "            k:  number of features to select in select k best algorithm\n",
    "            ratio:  columns to discard whose percent number of missing values is equal to or exceeds (1-ratio)\n",
    "    returns: training data, test data, and best features as pandas data frames.\"\"\"\n",
    "    #load codes related to features of data\n",
    "    codeBook, codeDict = getCodeBook(codeBk)\n",
    "    colInd = getCategory(codeBk)\n",
    "    #load the data file, and clean it\n",
    "    df, labels = loadCleanData(filename, ratio,colInd, verbose)\n",
    "    #impute missing values\n",
    "    if verbose:\n",
    "        print('\\n')\n",
    "        print('total number of data points:', df.size)\n",
    "        print('total number of missing values before imputing:' ,sum(df.isnull().sum().tolist()))\n",
    "    df = imputeMissing(df)\n",
    "    if verbose: print('total number of missing values after imputing:' ,sum(df.isnull().sum().tolist()))\n",
    "    return df,labels,codeBook\n",
    " "
   ]
  },
  {
   "cell_type": "code",
   "execution_count": 7,
   "metadata": {},
   "outputs": [
    {
     "name": "stdout",
     "output_type": "stream",
     "text": [
      "Size of data before cleaing: (6720, 1119)\n",
      "Size of data after cleaing: (6454, 97)\n",
      "\n",
      "\n",
      "total number of data points: 626038\n",
      "total number of missing values before imputing: 4949\n",
      "total number of missing values after imputing: 0\n"
     ]
    }
   ],
   "source": [
    "filePath = 'N:\\\\15-688\\\\HWFinalProject\\\\'\n",
    "dataFile = '2012_public_use_data_aug2016.csv'\n",
    "codeFile = '2012microdata_codebook.csv'\n",
    "\n",
    "df, labels, codeBook = getCleanDataFeatures(filePath+dataFile,filePath+codeFile)"
   ]
  },
  {
   "cell_type": "code",
   "execution_count": 8,
   "metadata": {},
   "outputs": [
    {
     "data": {
      "text/html": [
       "<div>\n",
       "<style>\n",
       "    .dataframe thead tr:only-child th {\n",
       "        text-align: right;\n",
       "    }\n",
       "\n",
       "    .dataframe thead th {\n",
       "        text-align: left;\n",
       "    }\n",
       "\n",
       "    .dataframe tbody tr th {\n",
       "        vertical-align: top;\n",
       "    }\n",
       "</style>\n",
       "<table border=\"1\" class=\"dataframe\">\n",
       "  <thead>\n",
       "    <tr style=\"text-align: right;\">\n",
       "      <th></th>\n",
       "      <th>ytotal</th>\n",
       "      <th>yheat</th>\n",
       "      <th>ycool</th>\n",
       "      <th>yvent</th>\n",
       "    </tr>\n",
       "  </thead>\n",
       "  <tbody>\n",
       "    <tr>\n",
       "      <th>0</th>\n",
       "      <td>6081.0</td>\n",
       "      <td>5212.0</td>\n",
       "      <td>646.0</td>\n",
       "      <td>371.0</td>\n",
       "    </tr>\n",
       "    <tr>\n",
       "      <th>1</th>\n",
       "      <td>1581997.0</td>\n",
       "      <td>135096.0</td>\n",
       "      <td>765271.0</td>\n",
       "      <td>1356496.0</td>\n",
       "    </tr>\n",
       "    <tr>\n",
       "      <th>2</th>\n",
       "      <td>11399.0</td>\n",
       "      <td>0.0</td>\n",
       "      <td>0.0</td>\n",
       "      <td>0.0</td>\n",
       "    </tr>\n",
       "    <tr>\n",
       "      <th>3</th>\n",
       "      <td>10932350.0</td>\n",
       "      <td>1643887.0</td>\n",
       "      <td>1709273.0</td>\n",
       "      <td>8981761.0</td>\n",
       "    </tr>\n",
       "    <tr>\n",
       "      <th>4</th>\n",
       "      <td>447453.0</td>\n",
       "      <td>0.0</td>\n",
       "      <td>21305.0</td>\n",
       "      <td>532929.0</td>\n",
       "    </tr>\n",
       "  </tbody>\n",
       "</table>\n",
       "</div>"
      ],
      "text/plain": [
       "       ytotal      yheat      ycool      yvent\n",
       "0      6081.0     5212.0      646.0      371.0\n",
       "1   1581997.0   135096.0   765271.0  1356496.0\n",
       "2     11399.0        0.0        0.0        0.0\n",
       "3  10932350.0  1643887.0  1709273.0  8981761.0\n",
       "4    447453.0        0.0    21305.0   532929.0"
      ]
     },
     "execution_count": 8,
     "metadata": {},
     "output_type": "execute_result"
    }
   ],
   "source": [
    "labels.head()[:5]"
   ]
  },
  {
   "cell_type": "markdown",
   "metadata": {},
   "source": [
    "# PART II:  VISUALIZING AND ANALYSING DATA\n",
    "Once we loaded the data, we tried to visualize what the data looked like, and plotted a histogram for all four of data of energy consumption for heating, cooling, ventilation and total energy consumption a visual inspection revealed some outliers. We cleaned the data, and removed these outliers, and found that this simple task improved our regression scores considerably."
   ]
  },
  {
   "cell_type": "code",
   "execution_count": 9,
   "metadata": {
    "collapsed": true,
    "scrolled": true
   },
   "outputs": [],
   "source": [
    "def histogramsData(data):\n",
    "    labels = data.columns\n",
    "    n = len(labels)\n",
    "    plt.figure(figsize=(20,5))\n",
    "    for i in range(n):\n",
    "        plt.subplot(np.ceil(n/4),4,i+1)\n",
    "        plt.hist(data[labels[i]], bins = 30)\n",
    "        plt.yscale('symlog')\n",
    "        plt.xlabel(labels[i])\n",
    "        plt.ylabel('No. of buildings')\n",
    "        plt.grid(True)\n",
    "    plt.show()\n",
    "    \n",
    "histogramsData(labels)"
   ]
  },
  {
   "cell_type": "markdown",
   "metadata": {},
   "source": [
    "\n",
    "### DATA BEFORE REMOVING OUTLIERS\n",
    "![Image](https://i.imgur.com/KSMdxGv.jpg)\n",
    "\n",
    "\n",
    "### DATA AFTER REMOVING OUTLIERS\n",
    "![Image](https://i.imgur.com/EHa6mOR.jpg)\n"
   ]
  },
  {
   "cell_type": "markdown",
   "metadata": {},
   "source": [
    "## Divide the Data into Training and Validation Set\n",
    "Next the data has to be divided into a test set and a validation set.  We randomly assigned 1/2 of the buildings to the test set and 1/2 of the examples to the training set."
   ]
  },
  {
   "cell_type": "code",
   "execution_count": 10,
   "metadata": {
    "collapsed": true
   },
   "outputs": [],
   "source": [
    "def divideData(df,label, ratio, seeds=7): \n",
    "    \"\"\"args:    df: dataframe to divide, \n",
    "                ratio: ratio in which to divide it, seeds: random seed for consistent result\n",
    "    returns:  training data, and test data\"\"\"\n",
    "    np.random.seed(seeds)\n",
    "    P = np.arange(df.shape[0])\n",
    "    np.random.shuffle(P)\n",
    "    size = int(len(df) *  ratio)\n",
    "    trainX = df.iloc[P[:size] ]\n",
    "    testX = df.iloc[P[size:]]\n",
    "    trainY = label.iloc[P[:size] ]\n",
    "    testY = label.iloc[P[size:] ]\n",
    "    return trainX, trainY, testX, testY"
   ]
  },
  {
   "cell_type": "markdown",
   "metadata": {},
   "source": [
    "## Find Best Performing Features\n",
    "We used k-means algorithm to find out the best performing features.  This returned the best performing features in the data, and assigned a score based on the contribution of each feature.  It also gives a p-value which shows how significant each feature's contribution is.  After obtaining the best features, we attached them to our dictionary, to get a better idea about what type of data each feature represents."
   ]
  },
  {
   "cell_type": "code",
   "execution_count": 11,
   "metadata": {
    "collapsed": true
   },
   "outputs": [],
   "source": [
    "#related library:  from sklearn.feature_selection import SelectKBest\n",
    "def showBest(X,y, coef, codeBook):\n",
    "    \"\"\"args:    names:  list of column names\n",
    "                codeBook:  dataframe explaining what each column label represents\n",
    "    returns:  dataframe with scores and explanation of what each column represents\"\"\"\n",
    "    viewScores = pd.DataFrame(index= X.columns, data= coef, columns=['Weights'])\n",
    "    np.seterr(divide='ignore', invalid='ignore')\n",
    "    sel = SelectKBest(f_regression)\n",
    "    sel.fit(X, y)\n",
    "    #x = sel.transform(trainX)\n",
    "    viewScores['Scores'] = sel.scores_\n",
    "    viewScores['p-values'] = sel.pvalues_\n",
    "    viewScores['Labels'] = codeBook['Label']\n",
    "    viewScores['Format'] = codeBook['Values/Format codes']\n",
    "    viewScores['Format'].replace(to_replace=\"\\n\", value=' ', inplace=True)\n",
    "    return viewScores"
   ]
  },
  {
   "cell_type": "markdown",
   "metadata": {},
   "source": [
    "#### RESULTS & ANALYSIS:  K-Best Features\n",
    "Once we had the results from the k-best features (using only test data) we sorted them in descending order.  This gave us a good sense of what building features, management practices contribute the most to energy consumption.  Here's what the results look like:\n",
    "![k-Best](https://i.imgur.com/1xaMNmv.jpg)\n",
    "Some of the results are fairly what we expected.  For example the strongest predictor is the square footage, which just implies that bigger buildings will consume more energy and vice versa.  However, this exercise also gave us a good sense of other important energy hoggers like whether the building is open 24 hours a day or not, how using electricity for cooking has a major impact on energy consumption.  Number of laptops and other equipment also seems to have a huge energy impact along with type of lighting eg halogen bulb usage etc.  There were also some interesting finds like how having an atrium or skylight can also effect consumption.\n",
    "\n",
    "We also noticed how categorical data with responses of just a 'yes' or 'no' are as important at predicting energy consumption as continuous variables like number of employees etc."
   ]
  },
  {
   "cell_type": "markdown",
   "metadata": {},
   "source": [
    "## Regression Using Four Different Algorithms, with Cross Validation and Grid Search\n",
    "After dividing the data into training and test sets, we used grid search with cross validation to fine tune our hyper-parameters.  We used sk-learn's built in algorithm to narrow down our hyper parameter search.  However, we found that using grid search was time consuming and the computer often got stuck.  To overcome this annoyance, we had to remove this from our pipeline, and manually did a grid search for each type of algorithm and recorded it separately to be used with the appropriate algorithm."
   ]
  },
  {
   "cell_type": "code",
   "execution_count": 12,
   "metadata": {
    "collapsed": true
   },
   "outputs": [],
   "source": [
    "from sklearn.model_selection import GridSearchCV\n",
    "\n",
    "def bestParams(estimator, params, x, y):\n",
    "    clff = GridSearchCV(GradientBoostingRegressor(), params, cv = 5, scoring = 'r2' )\n",
    "    clff.fit(x, y)\n",
    "    return clff.best_params_"
   ]
  },
  {
   "cell_type": "markdown",
   "metadata": {},
   "source": [
    "We tried to run our code with different algorithms to see which one performed the best with our data.  We tested out linear regression, kernel ridge regression, orthogonal matching pursuit and the gradient boosting regressor.  We created a single function which can take in the estimator, the parameters we found earlier through grid search, and the data comprising of test and train sets and out put r2 scores for regression."
   ]
  },
  {
   "cell_type": "code",
   "execution_count": 13,
   "metadata": {
    "collapsed": true
   },
   "outputs": [],
   "source": [
    "from sklearn import linear_model\n",
    "from sklearn.kernel_ridge import KernelRidge\n",
    "from sklearn.linear_model import OrthogonalMatchingPursuit\n",
    "from sklearn.ensemble import GradientBoostingRegressor\n",
    "\n",
    "def regress(estimator, params, data):\n",
    "    trainX, trainY, testX, testY = data[0], data[1], data[2], data[3]\n",
    "    regr = estimator()\n",
    "    regr.set_params(**params)\n",
    "    regr.fit(trainX, trainY)\n",
    "    yHatTest = regr.predict(testX)\n",
    "    testScore = regr.score(testX, testY)\n",
    "    trainScore = regr.score(trainX, trainY)\n",
    "    return trainScore, testScore, regr.predict(trainX), yHatTest"
   ]
  },
  {
   "cell_type": "code",
   "execution_count": 14,
   "metadata": {
    "collapsed": true
   },
   "outputs": [],
   "source": [
    "#following function taken from 15-388 HW-3 on Linear Regression\n",
    "def getMSE(LR, X, y, X_v, y_v):\n",
    "    predTr = LR.predict(X)\n",
    "    mseTrain = (np.square(predTr - y  )).mean()\n",
    "    mseTrainMean = (np.square( y.values.mean() - y  )).mean()\n",
    "    predVal = LR.predict(X_v)\n",
    "    mseValid = (np.square(predVal - y_v.values )).mean()\n",
    "    mseValidMean = (np.square(y.values.mean() - y_v.values  )).mean()\n",
    "    return mseTrain,mseValid, mseTrainMean,  mseValidMean"
   ]
  },
  {
   "cell_type": "markdown",
   "metadata": {},
   "source": [
    "We also dedicated some code just to output some graphs for easy visualization of results."
   ]
  },
  {
   "cell_type": "code",
   "execution_count": 15,
   "metadata": {
    "collapsed": true
   },
   "outputs": [],
   "source": [
    "def makeSimpleBar(data,title,names):\n",
    "    y_pos = np.arange(len(names))\n",
    "    plt.bar(y_pos, data, align='center', alpha=.7, color='orange',edgecolor='black')\n",
    "    plt.xticks(y_pos, names,rotation='vertical')\n",
    "    plt.title(title)\n",
    "    return plt    "
   ]
  },
  {
   "cell_type": "code",
   "execution_count": 16,
   "metadata": {
    "collapsed": true
   },
   "outputs": [],
   "source": [
    "def makeBarChart(names, train, test):\n",
    "    pos = list(range(len(names))) \n",
    "    width = 0.25 \n",
    "    colors = [['c','teal'],['sienna','sandybrown'],['#EE3224','#F78F1E'] ]\n",
    "    fig, ax = plt.subplots(figsize=(10,5))\n",
    "    plt.bar([p + width*0 for p in pos],train,color='#EE3224', width=width, alpha=.8)\n",
    "    plt.bar([p + width*1 for p in pos],test,color='#F78F1E', width=width, alpha=.8)\n",
    "    ax.set_ylabel('Score')\n",
    "    ax.set_title('Regression Scores')\n",
    "    ax.title.set_fontsize(16)\n",
    "    ax.set_xticks([p + .5 * width for p in pos])\n",
    "    ax.set_xticklabels(names)\n",
    "    ax.xaxis.label.set_fontsize(12)\n",
    "    ax.yaxis.label.set_fontsize(12)\n",
    "    plt.legend(['training score', 'test score'], loc='upper right')\n",
    "    plt.grid()\n",
    "    return plt\n"
   ]
  },
  {
   "cell_type": "code",
   "execution_count": 17,
   "metadata": {
    "collapsed": true
   },
   "outputs": [],
   "source": [
    "def makeScatters( ytruTrain,yhatTrain,ytruTest,yhatTest):\n",
    "    fig, ax = plt.subplots(figsize=(7,7))\n",
    "    s = 121\n",
    "    ax.scatter(ytruTrain, yhatTrain, color='b', s=s/3, alpha=.4, label='Training Set')\n",
    "    ax.scatter(ytruTest, yhatTest, color='r', s=s/2, alpha=.4, label='Test Set')\n",
    "    ax.set_ylabel('Predicted Energy Consumption')\n",
    "    ax.set_xlabel('True Energy Consumption')\n",
    "    ax.set_title('True vs Predicted Energy Consumption')\n",
    "    ax.title.set_fontsize(16)\n",
    "    ax.xaxis.label.set_fontsize(12)\n",
    "    ax.yaxis.label.set_fontsize(12)\n",
    "    plt.ylim(-4e6, 5e7)\n",
    "    plt.xlim(-4e6, 5e7)\n",
    "    x = np.linspace(0,5e7,4)\n",
    "    ax.legend()\n",
    "    return plt"
   ]
  },
  {
   "cell_type": "markdown",
   "metadata": {},
   "source": [
    "## Put Everything Together to Form Analysis"
   ]
  },
  {
   "cell_type": "markdown",
   "metadata": {},
   "source": [
    "### Analyze Total Energy Used\n",
    "The following set of functions predict the total energy consumption of buildings based on building features.  This part of the code explores different algorithms, and related accuracy levels achieved."
   ]
  },
  {
   "cell_type": "code",
   "execution_count": 18,
   "metadata": {
    "collapsed": true
   },
   "outputs": [],
   "source": [
    "def analyzeTotal(df, labels, codeBook):\n",
    "    trainX, trainY, testX, testY = divideData(df,labels,.5)\n",
    "    data = trainX, trainY['ytotal'], testX, testY['ytotal']\n",
    "    estimators = [linear_model.LinearRegression, KernelRidge, GradientBoostingRegressor, OrthogonalMatchingPursuit]\n",
    "    parameters = [{},{'alpha': 10, 'gamma' : .001, 'kernel' : 'linear'},{'max_depth': 2, 'n_estimators': 100},{'n_nonzero_coefs':20}]\n",
    "    names = ['Linear Regression', 'Kernel Ridge Regression','Gradient Boosting','Orthogonal Matching Pursuit'  ]\n",
    "    train = []\n",
    "    test = []\n",
    "    yHatTrain = []\n",
    "    yHatTest = []\n",
    "    for i in range(len(estimators)):\n",
    "        tr, te, yHatTr, yHatTe = regress(estimators[i],parameters[i],data)\n",
    "        train.append(tr)\n",
    "        test.append(te)\n",
    "        yHatTrain.append(yHatTr)\n",
    "        yHatTest.append(yHatTe)\n",
    "    best = test.index(max(test))\n",
    "    print('Best Regressor: ', names[best], 'With test score of: ', test[best] )\n",
    "    plot = makeBarChart(names, train, test)\n",
    "    scat = makeScatters(trainY['ytotal'],yHatTrain[2],testY['ytotal'],yHatTest[2]  )\n",
    "    p = linear_model.LinearRegression()\n",
    "    p.fit(trainX, trainY['ytotal'])\n",
    "    scoresDf = showBest(trainX,trainY['ytotal'], p.coef_, codeBook)\n",
    "    mses = getMSE(p, trainX, trainY['ytotal'], testX, testY['ytotal'])\n",
    "    return plot, yHatTest, scat, scoresDf, mses"
   ]
  },
  {
   "cell_type": "code",
   "execution_count": 22,
   "metadata": {},
   "outputs": [
    {
     "name": "stdout",
     "output_type": "stream",
     "text": [
      "Best Regressor:  Gradient Boosting With test score of:  0.840630811551\n"
     ]
    }
   ],
   "source": [
    "plot, yHatTest, scat, scoresDf, mses = analyzeTotal(df, labels, codeBook)\n",
    "names = ['mse on training','mse on validation','mse Mean on training', 'mse Mean on validation']\n",
    "bar = makeSimpleBar(mses,'Mean Squared Errors',names )\n",
    "plot.show()\n",
    "scat.show()\n",
    "bar.show()"
   ]
  },
  {
   "cell_type": "markdown",
   "metadata": {},
   "source": [
    "#### Result and Analysis: Gradient Boosting Best Algorithm for Data with r2 Score of .84\n",
    "After fine tuning hyper parameters using grid search, we compared results for all the four regression algorithms and found that gradient boosting performs the best on our data set.  At first we did not get good results, but we kept tuning our input features, and saw that removing outliers was the easiest way to increase scores.  Here's what the regression scores of all four algorithms look like before and after removing outliers.\n",
    "\n",
    "![Regression Scores](https://i.imgur.com/dBuyhOx.jpg)\n",
    "\n",
    "We found a fairly good correlation between building features and energy consumption.  __Our algorithm can account for 84% of the variation in the test data__.  Our scatter plot indicates how the predictions on the training data are a little bit more accurate than the test data.  This is consistant with the bar chart showing a better accuracy for training data.  This implies that the gradient boosting algorithm has a tendency to over fit the data.  We also see how removing outliers from our training data helped fine tune our predictions with a sharper correlation seen in the scatter plot.\n",
    "\n",
    "![Scatter Plots](https://i.imgur.com/10ICnLx.jpg)\n",
    "\n",
    "We also output the mean squared errors, and made comparisons with the baseline of mse on predicting the mean on the training and the test set.  We got good results in all cases.  Here's how our predicted label of total energy consumption compares with the true labels. Here's what the mean squared errors look like.\n",
    "![MSE](https://i.imgur.com/LO0u3zz.jpg)\n"
   ]
  },
  {
   "cell_type": "code",
   "execution_count": 23,
   "metadata": {},
   "outputs": [
    {
     "data": {
      "text/html": [
       "<div>\n",
       "<style>\n",
       "    .dataframe thead tr:only-child th {\n",
       "        text-align: right;\n",
       "    }\n",
       "\n",
       "    .dataframe thead th {\n",
       "        text-align: left;\n",
       "    }\n",
       "\n",
       "    .dataframe tbody tr th {\n",
       "        vertical-align: top;\n",
       "    }\n",
       "</style>\n",
       "<table border=\"1\" class=\"dataframe\">\n",
       "  <thead>\n",
       "    <tr style=\"text-align: right;\">\n",
       "      <th></th>\n",
       "      <th>Weights</th>\n",
       "      <th>Scores</th>\n",
       "      <th>p-values</th>\n",
       "      <th>Labels</th>\n",
       "      <th>Format</th>\n",
       "    </tr>\n",
       "  </thead>\n",
       "  <tbody>\n",
       "    <tr>\n",
       "      <th>SQFT</th>\n",
       "      <td>13.492576</td>\n",
       "      <td>7976.074215</td>\n",
       "      <td>0.0</td>\n",
       "      <td>Square footage</td>\n",
       "      <td>1,001 - 1,500,000</td>\n",
       "    </tr>\n",
       "    <tr>\n",
       "      <th>NWKER</th>\n",
       "      <td>1123.923898</td>\n",
       "      <td>3388.703456</td>\n",
       "      <td>0.0</td>\n",
       "      <td>Number of employees</td>\n",
       "      <td>0 - 6,500</td>\n",
       "    </tr>\n",
       "    <tr>\n",
       "      <th>PCTERMN</th>\n",
       "      <td>1399.288203</td>\n",
       "      <td>2463.311775</td>\n",
       "      <td>0.0</td>\n",
       "      <td>Number of computers</td>\n",
       "      <td>0 - 4,195\\nMissing = Not applicable</td>\n",
       "    </tr>\n",
       "  </tbody>\n",
       "</table>\n",
       "</div>"
      ],
      "text/plain": [
       "             Weights       Scores  p-values               Labels  \\\n",
       "SQFT       13.492576  7976.074215       0.0       Square footage   \n",
       "NWKER    1123.923898  3388.703456       0.0  Number of employees   \n",
       "PCTERMN  1399.288203  2463.311775       0.0  Number of computers   \n",
       "\n",
       "                                      Format  \n",
       "SQFT                       1,001 - 1,500,000  \n",
       "NWKER                              0 - 6,500  \n",
       "PCTERMN  0 - 4,195\\nMissing = Not applicable  "
      ]
     },
     "execution_count": 23,
     "metadata": {},
     "output_type": "execute_result"
    }
   ],
   "source": [
    "scoresDf.sort_values(by='Scores', ascending=False)[:3]"
   ]
  },
  {
   "cell_type": "markdown",
   "metadata": {},
   "source": [
    "### Analyze Energy Consumption of Heating, Cooling, Ventilation and Total Energy Consumption\n",
    "The next part of the code analyzes different components of electrical energy consumption"
   ]
  },
  {
   "cell_type": "code",
   "execution_count": 24,
   "metadata": {
    "collapsed": true
   },
   "outputs": [],
   "source": [
    "def analyzeAll(df, labels):\n",
    "    cols = labels.columns\n",
    "    trainX, trainY, testX, testY = divideData(df,labels,.5)\n",
    "    params = {'max_depth': 3, 'n_estimators': 75}\n",
    "    regressors = []\n",
    "    train = []\n",
    "    test = []\n",
    "    ycol = trainY.columns\n",
    "    for i in range(len(cols)):\n",
    "        tr, te, yHatTr, yHatTe = regress(GradientBoostingRegressor,params,(trainX, trainY[ycol[i]], testX, testY[ycol[i]]))\n",
    "        train.append(tr)\n",
    "        test.append(te)\n",
    "    bar = makeBarChart(ycol, train, test)\n",
    "    clf = GradientBoostingRegressor()\n",
    "    clf.fit(trainX, trainY['ytotal'])\n",
    "    return bar\n",
    "    "
   ]
  },
  {
   "cell_type": "code",
   "execution_count": 27,
   "metadata": {
    "scrolled": true
   },
   "outputs": [
    {
     "data": {
      "image/png": "[encoded data removed]",
      "text/plain": [
       "<matplotlib.figure.Figure at 0x285dd95def0>"
      ]
     },
     "metadata": {},
     "output_type": "display_data"
    }
   ],
   "source": [
    "a = analyzeAll(df, labels)\n",
    "a.show()"
   ]
  },
  {
   "cell_type": "markdown",
   "metadata": {},
   "source": [
    "We were a little suprised to see that we were unable to predict good scores for the heating.  While our estimate of total energy consumption was fairly high, we saw that the component energy consumption was not doing so well.  We traced the source of the error to how there is very less energy being used for heating.  It means that heating in many buildings is being done using gas or some other fuel instead of electricity.  __We see from the following graph that the values for which MORE data was available, had a better chance of a higher accuracy.__\n",
    "![energy](https://i.imgur.com/0h389yj.jpg)"
   ]
  },
  {
   "cell_type": "markdown",
   "metadata": {},
   "source": [
    "### Effect of Size of Training Data on Score of Test Data\n",
    "The following code attempts to find out how the size of training data would effect scores."
   ]
  },
  {
   "cell_type": "code",
   "execution_count": 31,
   "metadata": {
    "collapsed": true
   },
   "outputs": [],
   "source": [
    "import warnings\n",
    "warnings.filterwarnings(\"ignore\")\n",
    "\n",
    "def get_err_samples(clf, x_train, y_train, x_cv, y_cv, n_samples):\n",
    "    clf.fit(x_train[:n_samples], y_train[:n_samples])\n",
    "    return np.array([clf.score(x_train[:n_samples], y_train[:n_samples]), clf.score(x_cv, y_cv)])\n",
    "\n",
    "def sampleSizeEffect(clf, x_train,y_train, x_cv, y_cv ):\n",
    "    n_samples = [int(x) for x in np.linspace(20, x_train.shape[0], 15)]\n",
    "    errors = np.array([get_err_samples(clf, x_train, y_train, x_cv, y_cv, n) for n in n_samples])\n",
    "    fig, ax = plt.subplots()\n",
    "    ax.plot(n_samples, errors[:,0])\n",
    "    ax.plot(n_samples, errors[:,1])\n",
    "    ax.set(xlabel='Number of Samples', ylabel='Test Score',\n",
    "       title='Effect of Sample Size on Test Score')\n",
    "    ax.legend(\"Training\", \"Validation\")\n",
    "    ax.grid()\n",
    "    return plt\n",
    "\n",
    "def analyzeSampSize(df, labels):\n",
    "    cols = labels.columns\n",
    "    trainX, trainY, testX, testY = divideData(df,labels,.5)\n",
    "    params = {'max_depth': 3, 'n_estimators': 75}\n",
    "    regressors = []\n",
    "    train = []\n",
    "    test = []\n",
    "    ycol = trainY.columns\n",
    "    for i in range(len(cols)):\n",
    "        tr, te, yHatTr, yHatTe = regress(GradientBoostingRegressor,params,(trainX, trainY[ycol[i]], testX, testY[ycol[i]]))\n",
    "        train.append(tr)\n",
    "        test.append(te)\n",
    "    clf = GradientBoostingRegressor()\n",
    "    clf.fit(trainX, trainY['ytotal'])\n",
    "    return sampleSizeEffect(clf,trainX, trainY['ytotal'], testX, testY['ytotal'])  "
   ]
  },
  {
   "cell_type": "code",
   "execution_count": 32,
   "metadata": {},
   "outputs": [
    {
     "data": {
      "image/png": "[encoded data removed]",
      "text/plain": [
       "<matplotlib.figure.Figure at 0x285dd953f28>"
      ]
     },
     "metadata": {},
     "output_type": "display_data"
    }
   ],
   "source": [
    "b = analyzeSampSize(df, labels)\n",
    "b.show()"
   ]
  },
  {
   "cell_type": "markdown",
   "metadata": {
    "collapsed": true,
    "scrolled": true
   },
   "source": [
    "We also studied the effect of having a large or small sample size for training our data.  We plotted the training and test accuracy, which showed that an increased sample size decreased the gap between the test and training errors.  This means that a bigger sample size is likely to decrease over-fitting of the data"
   ]
  },
  {
   "cell_type": "markdown",
   "metadata": {
    "collapsed": true
   },
   "source": [
    "### Statistics for Different Climate Regions\n",
    "\n",
    "For deeper understanding and further analysis of our data, buildings are divided by using the feature \"Building America climate region\" provided.\n",
    "\n",
    "There are five different catagories for this feature, which are:\n",
    "* '1' = 'Very cold/Cold'\n",
    "* '2 '= 'Mixed-humid'\n",
    "* '3' = 'Hot-dry/Mixed-dry/Hot-humid'\n",
    "* '5' = 'Marine'\n",
    "* '7' = 'Withheld to protect confidentiality'"
   ]
  },
  {
   "cell_type": "markdown",
   "metadata": {},
   "source": [
    "#### 1. Distribution of regions.\n",
    "\n",
    "A barchar (actual implementation is done by using the histogram functionality with specified ranges of bins) is create for the amount of buildings in each climate region. Meanings of x-axis is explained in above cell.\n",
    "\n",
    "Interpretation: Sufficent amount of smaples are in the climate region \"1\", \"2\", \"3\". There is a relative lack of sample for climate \"5\" and \"7\"."
   ]
  },
  {
   "cell_type": "code",
   "execution_count": null,
   "metadata": {
    "collapsed": true
   },
   "outputs": [],
   "source": [
    "plt.hist(df['PUBCLIM'], bins=np.arange(0,8,0.5));"
   ]
  },
  {
   "cell_type": "markdown",
   "metadata": {},
   "source": [
    "#### 2. Divide and analysis\n",
    "The `divide_climate` helper function is used to divide the data into differnet climate regions, then gradient boosting regressor is used for training and learning. (with hyperparameter search conducted as well)"
   ]
  },
  {
   "cell_type": "code",
   "execution_count": 130,
   "metadata": {
    "collapsed": true
   },
   "outputs": [],
   "source": [
    "def divide_climate(df, label):\n",
    "    \"\"\"args:    df:  dataframe of the whole sample (after cleaning and imputing)\n",
    "             label:  dataframe labels (results, that are the differnet types of consumptions)\n",
    "    returns:  A list of lists. Inner list is in the format: [x_train, y_train, x_test, y_test]\"\"\"\n",
    "    \n",
    "    result_list = []\n",
    "    climate_set = sorted(df['PUBCLIM'].unique())\n",
    "    for climate in climate_set:\n",
    "        climate_df = df[df['PUBCLIM'] == climate]\n",
    "        climate_label = label[df['PUBCLIM'] == climate]\n",
    "        climate_label = climate_label['ytotal']\n",
    "        x_train, y_train, x_test, y_test = divideData(climate_df, climate_label, 0.7)\n",
    "        result_list.append([x_train, y_train, x_test, y_test])\n",
    "    return result_list"
   ]
  },
  {
   "cell_type": "code",
   "execution_count": 145,
   "metadata": {
    "scrolled": true
   },
   "outputs": [
    {
     "data": {
      "image/png": "[encoded data removed]",
      "text/plain": [
       "<matplotlib.figure.Figure at 0x1d2336c2f98>"
      ]
     },
     "metadata": {},
     "output_type": "display_data"
    }
   ],
   "source": [
    "climate_list = divide_climate(df, labels)\n",
    "train = []\n",
    "test = []\n",
    "params = {'max_depth': 2, 'n_estimators': 50}\n",
    "ycol = ['Very cold/Cold', 'Mixed-humid','Hot-dry/Mixed-dry/Hot-humid','Marine','Withheld to protect confidentiality']\n",
    "for each_climate in climate_list:\n",
    "    tr, te, yHatTr, yHatTe = regress(GradientBoostingRegressor,params,(each_climate[0], each_climate[1],\n",
    "                                                                       each_climate[2], each_climate[3]))\n",
    "    train.append(tr)\n",
    "    test.append(te)\n",
    "bar = makeBarChart(ycol, train, test)\n",
    "bar.show()"
   ]
  },
  {
   "cell_type": "markdown",
   "metadata": {},
   "source": [
    "The result of training is generally good for climates with enough sample, while not so good for the other. There is a likely a over fit for catagory \"5\" (Marine) from the high training score and low test score. Catagory for buidlings that do not have region information scores the loweset, due to the smallest sample size with mix of inherent differences in samples.\n",
    "\n",
    "A consice scatter plot is shown below for the relation between samplw size and training score."
   ]
  },
  {
   "cell_type": "code",
   "execution_count": 138,
   "metadata": {
    "scrolled": true
   },
   "outputs": [
    {
     "data": {
      "image/png": "[encoded data removed]",
      "text/plain": [
       "<matplotlib.figure.Figure at 0x1d233ca7e80>"
      ]
     },
     "metadata": {},
     "output_type": "display_data"
    }
   ],
   "source": [
    "climate_set = sorted(df['PUBCLIM'].unique())\n",
    "climate_sample_size = []\n",
    "for i in climate_set:\n",
    "    climate_sample_size.append(df[df['PUBCLIM'] == i].shape[0])\n",
    "\n",
    "\n",
    "plt.scatter(climate_sample_size, test, color='r',s = 300, alpha=.7, label='Training Set')\n",
    "plt.ylabel('Predicted Energy Consumption')\n",
    "plt.xlabel('True Energy Consumption')\n",
    "plt.title('True vs Predicted Energy Consumption')\n",
    "plt.show()"
   ]
  },
  {
   "cell_type": "markdown",
   "metadata": {
    "collapsed": true
   },
   "source": []
  }
 ],
 "metadata": {
  "kernelspec": {
   "display_name": "Python 3",
   "language": "python",
   "name": "python3"
  },
  "language_info": {
   "codemirror_mode": {
    "name": "ipython",
    "version": 3
   },
   "file_extension": ".py",
   "mimetype": "text/x-python",
   "name": "python",
   "nbconvert_exporter": "python",
   "pygments_lexer": "ipython3",
   "version": "3.6.3"
  }
 },
 "nbformat": 4,
 "nbformat_minor": 2
}
